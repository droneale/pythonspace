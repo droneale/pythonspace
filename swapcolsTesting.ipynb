{
 "metadata": {
  "name": "",
  "signature": "sha256:32e3ccc92a961aae9a59911825b3308ead1c579d04bf9202512cd8382e8fbd60"
 },
 "nbformat": 3,
 "nbformat_minor": 0,
 "worksheets": [
  {
   "cells": [
    {
     "cell_type": "code",
     "collapsed": true,
     "input": [
      "from __future__ import print_function\n",
      "import swapcols as sc\n",
      "from time import clock\n",
      "import numpy as np\n"
     ],
     "language": "python",
     "metadata": {},
     "outputs": [],
     "prompt_number": 1
    },
    {
     "cell_type": "code",
     "collapsed": false,
     "input": [
      "rows = 4042\n",
      "columns = 632\n",
      "pages = 37\n",
      "t0=clock()\n",
      "temp=np.fromfile('../MatlabInputData/X_tl3_ipc3_by_year.csv',sep=',').reshape([pages,columns,rows],order='C')\n",
      "X=np.zeros([pages,rows,columns])\n",
      "for i in range(temp.shape[0]):\n",
      "    X[i,:,:]=temp[i,:,:].T\n",
      "t1=clock()\n",
      "print(t1-t0,'seconds elapsed')"
     ],
     "language": "python",
     "metadata": {},
     "outputs": [
      {
       "output_type": "stream",
       "stream": "stdout",
       "text": [
        "85.826496 seconds elapsed\n"
       ]
      }
     ],
     "prompt_number": 11
    },
    {
     "cell_type": "code",
     "collapsed": false,
     "input": [
      "#A=X[10,:,:]\n",
      "A=np.array([[1,2,3,4],[1,2,3,4],[1,2,3,4]])\n",
      "reload(sc)\n",
      "t0=clock()\n",
      "for i in range(1):\n",
      "    B=sc.swapcols(A)\n",
      "print(clock()-t0)\n",
      "print(B)"
     ],
     "language": "python",
     "metadata": {},
     "outputs": [
      {
       "output_type": "stream",
       "stream": "stdout",
       "text": [
        "0.000272\n",
        "[[1 4 2 3]\n",
        " [2 4 3 1]\n",
        " [1 2 4 3]]\n"
       ]
      }
     ],
     "prompt_number": 19
    },
    {
     "cell_type": "code",
     "collapsed": false,
     "input": [
      "import randbin as rb"
     ],
     "language": "python",
     "metadata": {},
     "outputs": [],
     "prompt_number": 42
    },
    {
     "cell_type": "code",
     "collapsed": false,
     "input": [
      "reload(rb)\n",
      "M=rb.randbin(4042,632,1234567)"
     ],
     "language": "python",
     "metadata": {},
     "outputs": [],
     "prompt_number": 62
    },
    {
     "cell_type": "code",
     "collapsed": false,
     "input": [
      "np.shape(np.nonzero(M))"
     ],
     "language": "python",
     "metadata": {},
     "outputs": [
      {
       "metadata": {},
       "output_type": "pyout",
       "prompt_number": 63,
       "text": [
        "(2, 1234567)"
       ]
      }
     ],
     "prompt_number": 63
    },
    {
     "cell_type": "code",
     "collapsed": false,
     "input": [
      "np.max(M)"
     ],
     "language": "python",
     "metadata": {},
     "outputs": [
      {
       "metadata": {},
       "output_type": "pyout",
       "prompt_number": 59,
       "text": [
        "1.0"
       ]
      }
     ],
     "prompt_number": 59
    },
    {
     "cell_type": "code",
     "collapsed": false,
     "input": [],
     "language": "python",
     "metadata": {},
     "outputs": []
    }
   ],
   "metadata": {}
  }
 ]
}